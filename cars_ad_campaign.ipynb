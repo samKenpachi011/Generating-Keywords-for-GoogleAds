{
  "nbformat": 4,
  "nbformat_minor": 0,
  "metadata": {
    "colab": {
      "name": "Untitled3.ipynb",
      "provenance": []
    },
    "kernelspec": {
      "name": "python3",
      "display_name": "Python 3"
    }
  },
  "cells": [
    {
      "cell_type": "markdown",
      "metadata": {
        "id": "D2s7hxRgETZb",
        "colab_type": "text"
      },
      "source": [
        "# Generate keywords combinations for search engine marketing campaigns"
      ]
    },
    {
      "cell_type": "markdown",
      "metadata": {
        "id": "wJgkZY0DEaJ3",
        "colab_type": "text"
      },
      "source": [
        "Utilizing Python, this is a recipe that shows how to generate different combinations of keywords and how to group them into their respective campaigns and ad groups. "
      ]
    },
    {
      "cell_type": "markdown",
      "metadata": {
        "id": "A11gXd1tEfdn",
        "colab_type": "text"
      },
      "source": [
        "We first start by obtaining the two main sets of words that we will be using:\n",
        "\n",
        "1. Products: a list of all the products / services that we are trying to sell\n",
        "2. Keywords: a list of all the keywords that, used together with any of the keywords, indicate an intention to buy any of our products.\n",
        "\n",
        "For this example we will be generating keywords for an imaginary business that sells used cars online. For simplicity, let's assume that the following are available as products and keywords:\n",
        "\n",
        "1. Products: 'honda', 'honda accord', 'honda civic', 'toyota', 'toyota camry'\n",
        "2. Keywords: 'buy', 'price', 'second hand'\n",
        "The end result we are looking for, would be something like this:"
      ]
    },
    {
      "cell_type": "markdown",
      "metadata": {
        "id": "BoZm_KhFEqiI",
        "colab_type": "text"
      },
      "source": [
        "| Campaign | Ad Group | Keywords |Criterion Type\n",
        "| --- | --- | --- | --- |\n",
        "| SEM Cars | Toyota | buy toyota | Exact\n",
        "| SEM Cars | Toyota | buy toyota | Phrase\n",
        "| SEM Cars | Honda Accord | buy honda accord | Exact\n",
        "| SEM Cars | Honda Accord | buy honda accord second hand | Exact"
      ]
    },
    {
      "cell_type": "code",
      "metadata": {
        "id": "nkWCrksNE4Bp",
        "colab_type": "code",
        "colab": {
          "base_uri": "https://localhost:8080/",
          "height": 1000
        },
        "outputId": "7f74814a-bd75-454b-f0df-ef0791eff43e"
      },
      "source": [
        "#Let's start with a simple loop that combines the keywords with the products, without worrying about campaigns and ad groups for now.\n",
        "\n",
        "products = ['honda', 'honda accord', 'honda civic', 'toyota', 'toyota camry']\n",
        "keywords =  ['buy', 'price', 'second hand','cheap','lowest price','low','used']\n",
        "keywords_list = [] # eventually, each line in this list will correspond to a keyword\n",
        "for car in products:\n",
        "    for word in keywords:\n",
        "        keywords_list.append([car, car + ' ' + word])\n",
        "        keywords_list.append([car, word + ' ' + car])\n",
        "# Inspect keyword list\n",
        "from pprint import pprint\n",
        "pprint(keywords_list)\n"
      ],
      "execution_count": 6,
      "outputs": [
        {
          "output_type": "stream",
          "text": [
            "[['honda', 'honda buy'],\n",
            " ['honda', 'buy honda'],\n",
            " ['honda', 'honda price'],\n",
            " ['honda', 'price honda'],\n",
            " ['honda', 'honda second hand'],\n",
            " ['honda', 'second hand honda'],\n",
            " ['honda', 'honda cheap'],\n",
            " ['honda', 'cheap honda'],\n",
            " ['honda', 'honda lowest price'],\n",
            " ['honda', 'lowest price honda'],\n",
            " ['honda', 'honda low'],\n",
            " ['honda', 'low honda'],\n",
            " ['honda', 'honda used'],\n",
            " ['honda', 'used honda'],\n",
            " ['honda accord', 'honda accord buy'],\n",
            " ['honda accord', 'buy honda accord'],\n",
            " ['honda accord', 'honda accord price'],\n",
            " ['honda accord', 'price honda accord'],\n",
            " ['honda accord', 'honda accord second hand'],\n",
            " ['honda accord', 'second hand honda accord'],\n",
            " ['honda accord', 'honda accord cheap'],\n",
            " ['honda accord', 'cheap honda accord'],\n",
            " ['honda accord', 'honda accord lowest price'],\n",
            " ['honda accord', 'lowest price honda accord'],\n",
            " ['honda accord', 'honda accord low'],\n",
            " ['honda accord', 'low honda accord'],\n",
            " ['honda accord', 'honda accord used'],\n",
            " ['honda accord', 'used honda accord'],\n",
            " ['honda civic', 'honda civic buy'],\n",
            " ['honda civic', 'buy honda civic'],\n",
            " ['honda civic', 'honda civic price'],\n",
            " ['honda civic', 'price honda civic'],\n",
            " ['honda civic', 'honda civic second hand'],\n",
            " ['honda civic', 'second hand honda civic'],\n",
            " ['honda civic', 'honda civic cheap'],\n",
            " ['honda civic', 'cheap honda civic'],\n",
            " ['honda civic', 'honda civic lowest price'],\n",
            " ['honda civic', 'lowest price honda civic'],\n",
            " ['honda civic', 'honda civic low'],\n",
            " ['honda civic', 'low honda civic'],\n",
            " ['honda civic', 'honda civic used'],\n",
            " ['honda civic', 'used honda civic'],\n",
            " ['toyota', 'toyota buy'],\n",
            " ['toyota', 'buy toyota'],\n",
            " ['toyota', 'toyota price'],\n",
            " ['toyota', 'price toyota'],\n",
            " ['toyota', 'toyota second hand'],\n",
            " ['toyota', 'second hand toyota'],\n",
            " ['toyota', 'toyota cheap'],\n",
            " ['toyota', 'cheap toyota'],\n",
            " ['toyota', 'toyota lowest price'],\n",
            " ['toyota', 'lowest price toyota'],\n",
            " ['toyota', 'toyota low'],\n",
            " ['toyota', 'low toyota'],\n",
            " ['toyota', 'toyota used'],\n",
            " ['toyota', 'used toyota'],\n",
            " ['toyota camry', 'toyota camry buy'],\n",
            " ['toyota camry', 'buy toyota camry'],\n",
            " ['toyota camry', 'toyota camry price'],\n",
            " ['toyota camry', 'price toyota camry'],\n",
            " ['toyota camry', 'toyota camry second hand'],\n",
            " ['toyota camry', 'second hand toyota camry'],\n",
            " ['toyota camry', 'toyota camry cheap'],\n",
            " ['toyota camry', 'cheap toyota camry'],\n",
            " ['toyota camry', 'toyota camry lowest price'],\n",
            " ['toyota camry', 'lowest price toyota camry'],\n",
            " ['toyota camry', 'toyota camry low'],\n",
            " ['toyota camry', 'low toyota camry'],\n",
            " ['toyota camry', 'toyota camry used'],\n",
            " ['toyota camry', 'used toyota camry']]\n"
          ],
          "name": "stdout"
        }
      ]
    },
    {
      "cell_type": "markdown",
      "metadata": {
        "id": "55zqvlSpGrLP",
        "colab_type": "text"
      },
      "source": [
        "Convert the list into a DataFrame and Rename the columns of the DataFrame"
      ]
    },
    {
      "cell_type": "code",
      "metadata": {
        "id": "u1iC25qOGr_m",
        "colab_type": "code",
        "colab": {
          "base_uri": "https://localhost:8080/",
          "height": 197
        },
        "outputId": "c79e270f-013e-4d43-c976-620e760188e1"
      },
      "source": [
        "import pandas as pd\n",
        "\n",
        "# Create a DataFrame from list\n",
        "keywords_df = pd.DataFrame.from_records(keywords_list)\n",
        "keywords_df = keywords_df.rename(columns={0: \"Ad Group\",1: \"Keyword\"})\n",
        "\n",
        "keywords_df.head()"
      ],
      "execution_count": 7,
      "outputs": [
        {
          "output_type": "execute_result",
          "data": {
            "text/html": [
              "<div>\n",
              "<style scoped>\n",
              "    .dataframe tbody tr th:only-of-type {\n",
              "        vertical-align: middle;\n",
              "    }\n",
              "\n",
              "    .dataframe tbody tr th {\n",
              "        vertical-align: top;\n",
              "    }\n",
              "\n",
              "    .dataframe thead th {\n",
              "        text-align: right;\n",
              "    }\n",
              "</style>\n",
              "<table border=\"1\" class=\"dataframe\">\n",
              "  <thead>\n",
              "    <tr style=\"text-align: right;\">\n",
              "      <th></th>\n",
              "      <th>Ad Group</th>\n",
              "      <th>Keyword</th>\n",
              "    </tr>\n",
              "  </thead>\n",
              "  <tbody>\n",
              "    <tr>\n",
              "      <th>0</th>\n",
              "      <td>honda</td>\n",
              "      <td>honda buy</td>\n",
              "    </tr>\n",
              "    <tr>\n",
              "      <th>1</th>\n",
              "      <td>honda</td>\n",
              "      <td>buy honda</td>\n",
              "    </tr>\n",
              "    <tr>\n",
              "      <th>2</th>\n",
              "      <td>honda</td>\n",
              "      <td>honda price</td>\n",
              "    </tr>\n",
              "    <tr>\n",
              "      <th>3</th>\n",
              "      <td>honda</td>\n",
              "      <td>price honda</td>\n",
              "    </tr>\n",
              "    <tr>\n",
              "      <th>4</th>\n",
              "      <td>honda</td>\n",
              "      <td>honda second hand</td>\n",
              "    </tr>\n",
              "  </tbody>\n",
              "</table>\n",
              "</div>"
            ],
            "text/plain": [
              "  Ad Group            Keyword\n",
              "0    honda          honda buy\n",
              "1    honda          buy honda\n",
              "2    honda        honda price\n",
              "3    honda        price honda\n",
              "4    honda  honda second hand"
            ]
          },
          "metadata": {
            "tags": []
          },
          "execution_count": 7
        }
      ]
    },
    {
      "cell_type": "markdown",
      "metadata": {
        "id": "I1hJpzJBHH-w",
        "colab_type": "text"
      },
      "source": [
        "Add a new column called Campaign with the value 'SEM_Cars' in every row.<br>\n",
        "Add a new column called Criterion Type with the value 'Exact' in every row.\n",
        "\n",
        "More about Matching Options -- https://support.google.com/google-ads/answer/7478529?hl=en"
      ]
    },
    {
      "cell_type": "code",
      "metadata": {
        "id": "9yrQbxLDHISj",
        "colab_type": "code",
        "colab": {}
      },
      "source": [
        "keywords_df['Campaign']='SEM Cars'\n",
        "keywords_df['Criterion Type']='Exact'"
      ],
      "execution_count": 8,
      "outputs": []
    },
    {
      "cell_type": "markdown",
      "metadata": {
        "id": "du6gp5_kIrRv",
        "colab_type": "text"
      },
      "source": [
        "Create phrase match keywords.<br>\n",
        "Change the Criterion Type column values of the newly copied DataFrame keyword_phrase to 'Phrase'.<br>\n",
        "Append the two DataFrames vertically so you can have one final DataFrame containing both.<br> Name the new DataFrame keywords_df_final."
      ]
    },
    {
      "cell_type": "code",
      "metadata": {
        "id": "lkaJH7xRIrsL",
        "colab_type": "code",
        "colab": {}
      },
      "source": [
        "# Make a copy of the keywords DataFrame\n",
        "keywords_phrase = keywords_df.copy()\n",
        "\n",
        "# Change criterion type match to phrase\n",
        "keywords_phrase['Criterion Type'] = 'Phrase'\n",
        "\n",
        "# Append the DataFrames\n",
        "keywords_df_final = keywords_df.append(keywords_phrase)"
      ],
      "execution_count": 9,
      "outputs": []
    },
    {
      "cell_type": "code",
      "metadata": {
        "id": "8HQ7CxNlJbBg",
        "colab_type": "code",
        "colab": {
          "base_uri": "https://localhost:8080/",
          "height": 497
        },
        "outputId": "64e70df9-6bec-41f3-fa07-fda33f94aea7"
      },
      "source": [
        "#View the top rows\n",
        "keywords_df_final.sample(15) \n",
        "\n",
        "#To save the final keywords Dataframe to a CSV-Excel Sheet\n",
        "#keywords_df_final.to_csv('keywords.csv',index=False)"
      ],
      "execution_count": 10,
      "outputs": [
        {
          "output_type": "execute_result",
          "data": {
            "text/html": [
              "<div>\n",
              "<style scoped>\n",
              "    .dataframe tbody tr th:only-of-type {\n",
              "        vertical-align: middle;\n",
              "    }\n",
              "\n",
              "    .dataframe tbody tr th {\n",
              "        vertical-align: top;\n",
              "    }\n",
              "\n",
              "    .dataframe thead th {\n",
              "        text-align: right;\n",
              "    }\n",
              "</style>\n",
              "<table border=\"1\" class=\"dataframe\">\n",
              "  <thead>\n",
              "    <tr style=\"text-align: right;\">\n",
              "      <th></th>\n",
              "      <th>Ad Group</th>\n",
              "      <th>Keyword</th>\n",
              "      <th>Campaign</th>\n",
              "      <th>Criterion Type</th>\n",
              "    </tr>\n",
              "  </thead>\n",
              "  <tbody>\n",
              "    <tr>\n",
              "      <th>6</th>\n",
              "      <td>honda</td>\n",
              "      <td>honda cheap</td>\n",
              "      <td>SEM Cars</td>\n",
              "      <td>Exact</td>\n",
              "    </tr>\n",
              "    <tr>\n",
              "      <th>51</th>\n",
              "      <td>toyota</td>\n",
              "      <td>lowest price toyota</td>\n",
              "      <td>SEM Cars</td>\n",
              "      <td>Exact</td>\n",
              "    </tr>\n",
              "    <tr>\n",
              "      <th>13</th>\n",
              "      <td>honda</td>\n",
              "      <td>used honda</td>\n",
              "      <td>SEM Cars</td>\n",
              "      <td>Exact</td>\n",
              "    </tr>\n",
              "    <tr>\n",
              "      <th>57</th>\n",
              "      <td>toyota camry</td>\n",
              "      <td>buy toyota camry</td>\n",
              "      <td>SEM Cars</td>\n",
              "      <td>Exact</td>\n",
              "    </tr>\n",
              "    <tr>\n",
              "      <th>22</th>\n",
              "      <td>honda accord</td>\n",
              "      <td>honda accord lowest price</td>\n",
              "      <td>SEM Cars</td>\n",
              "      <td>Exact</td>\n",
              "    </tr>\n",
              "    <tr>\n",
              "      <th>43</th>\n",
              "      <td>toyota</td>\n",
              "      <td>buy toyota</td>\n",
              "      <td>SEM Cars</td>\n",
              "      <td>Exact</td>\n",
              "    </tr>\n",
              "    <tr>\n",
              "      <th>8</th>\n",
              "      <td>honda</td>\n",
              "      <td>honda lowest price</td>\n",
              "      <td>SEM Cars</td>\n",
              "      <td>Exact</td>\n",
              "    </tr>\n",
              "    <tr>\n",
              "      <th>31</th>\n",
              "      <td>honda civic</td>\n",
              "      <td>price honda civic</td>\n",
              "      <td>SEM Cars</td>\n",
              "      <td>Phrase</td>\n",
              "    </tr>\n",
              "    <tr>\n",
              "      <th>18</th>\n",
              "      <td>honda accord</td>\n",
              "      <td>honda accord second hand</td>\n",
              "      <td>SEM Cars</td>\n",
              "      <td>Exact</td>\n",
              "    </tr>\n",
              "    <tr>\n",
              "      <th>32</th>\n",
              "      <td>honda civic</td>\n",
              "      <td>honda civic second hand</td>\n",
              "      <td>SEM Cars</td>\n",
              "      <td>Phrase</td>\n",
              "    </tr>\n",
              "    <tr>\n",
              "      <th>28</th>\n",
              "      <td>honda civic</td>\n",
              "      <td>honda civic buy</td>\n",
              "      <td>SEM Cars</td>\n",
              "      <td>Phrase</td>\n",
              "    </tr>\n",
              "    <tr>\n",
              "      <th>2</th>\n",
              "      <td>honda</td>\n",
              "      <td>honda price</td>\n",
              "      <td>SEM Cars</td>\n",
              "      <td>Phrase</td>\n",
              "    </tr>\n",
              "    <tr>\n",
              "      <th>54</th>\n",
              "      <td>toyota</td>\n",
              "      <td>toyota used</td>\n",
              "      <td>SEM Cars</td>\n",
              "      <td>Phrase</td>\n",
              "    </tr>\n",
              "    <tr>\n",
              "      <th>22</th>\n",
              "      <td>honda accord</td>\n",
              "      <td>honda accord lowest price</td>\n",
              "      <td>SEM Cars</td>\n",
              "      <td>Phrase</td>\n",
              "    </tr>\n",
              "    <tr>\n",
              "      <th>63</th>\n",
              "      <td>toyota camry</td>\n",
              "      <td>cheap toyota camry</td>\n",
              "      <td>SEM Cars</td>\n",
              "      <td>Exact</td>\n",
              "    </tr>\n",
              "  </tbody>\n",
              "</table>\n",
              "</div>"
            ],
            "text/plain": [
              "        Ad Group                    Keyword  Campaign Criterion Type\n",
              "6          honda                honda cheap  SEM Cars          Exact\n",
              "51        toyota        lowest price toyota  SEM Cars          Exact\n",
              "13         honda                 used honda  SEM Cars          Exact\n",
              "57  toyota camry           buy toyota camry  SEM Cars          Exact\n",
              "22  honda accord  honda accord lowest price  SEM Cars          Exact\n",
              "43        toyota                 buy toyota  SEM Cars          Exact\n",
              "8          honda         honda lowest price  SEM Cars          Exact\n",
              "31   honda civic          price honda civic  SEM Cars         Phrase\n",
              "18  honda accord   honda accord second hand  SEM Cars          Exact\n",
              "32   honda civic    honda civic second hand  SEM Cars         Phrase\n",
              "28   honda civic            honda civic buy  SEM Cars         Phrase\n",
              "2          honda                honda price  SEM Cars         Phrase\n",
              "54        toyota                toyota used  SEM Cars         Phrase\n",
              "22  honda accord  honda accord lowest price  SEM Cars         Phrase\n",
              "63  toyota camry         cheap toyota camry  SEM Cars          Exact"
            ]
          },
          "metadata": {
            "tags": []
          },
          "execution_count": 10
        }
      ]
    },
    {
      "cell_type": "code",
      "metadata": {
        "id": "a0seUKw_Kl5z",
        "colab_type": "code",
        "colab": {
          "base_uri": "https://localhost:8080/",
          "height": 230
        },
        "outputId": "32488ec5-dcdc-468a-aeef-90f55156c8f7"
      },
      "source": [
        "# View a summary of our campaign work\n",
        "summary = keywords_df_final.groupby(['Ad Group', 'Criterion Type'])['Keyword'].count()\n",
        "print(summary)"
      ],
      "execution_count": 11,
      "outputs": [
        {
          "output_type": "stream",
          "text": [
            "Ad Group      Criterion Type\n",
            "honda         Exact             14\n",
            "              Phrase            14\n",
            "honda accord  Exact             14\n",
            "              Phrase            14\n",
            "honda civic   Exact             14\n",
            "              Phrase            14\n",
            "toyota        Exact             14\n",
            "              Phrase            14\n",
            "toyota camry  Exact             14\n",
            "              Phrase            14\n",
            "Name: Keyword, dtype: int64\n"
          ],
          "name": "stdout"
        }
      ]
    },
    {
      "cell_type": "markdown",
      "metadata": {
        "id": "FOM-6FHWK_pv",
        "colab_type": "text"
      },
      "source": [
        "#Generate ads for Search Engine Marketing Campaigns\n",
        "Utilizing Python, this is a recipe that shows how to generate differnent ad templates for our campaigns and ad groups.\n",
        "\n",
        "Start by first getting a list of all the possible landing pages that are fit to be used in our campaigns.\n",
        "We should also have the title of the landing page (product name) as well. Ideally, we should have them in a list of tuples like this:\n"
      ]
    },
    {
      "cell_type": "code",
      "metadata": {
        "id": "M-EtvFAwLhbw",
        "colab_type": "code",
        "colab": {}
      },
      "source": [
        "#landing page links example with the ad group\n",
        "pages_products = [\n",
        "('http://example.com/?make=toyota&model=camry', 'toyota camry'),\n",
        "('http://example.com/?make=toyota&model=corolla','toyota corolla'),\n",
        "('http://example.com/?make=toyota&model=','toyota'),\n",
        "('http://example.com/?make=honda&model=civic','honda civic'),\n",
        "('http://example.com/?make=honda&model=','honda'),\n",
        "    ]\n",
        "\n",
        "\n",
        "#ad list\n",
        "ads_list = [['Campaign', 'Ad Group', 'Headline 1', 'Headline 2', 'Description', 'Final URL']]    "
      ],
      "execution_count": 13,
      "outputs": []
    },
    {
      "cell_type": "code",
      "metadata": {
        "id": "OrhcR1lQNXYa",
        "colab_type": "code",
        "colab": {}
      },
      "source": [
        "#let's combine the our landing page URL's with our headlines abd store them in the ads_list\n",
        "for page, adgroup in pages_products:\n",
        "    row = [\n",
        "        'SEM Cars',\n",
        "        adgroup,\n",
        "        adgroup +' '+'for Sale',\n",
        "        'Great Prices and Options',\n",
        "        'Browse Over 100,000 Cars. Book Your Free Test Drive',\n",
        "        page\n",
        "    ]\n",
        "    ads_list.append(row)\n",
        "\n",
        "    row = [\n",
        "        'SEM Cars',\n",
        "        adgroup,\n",
        "        'Second Hand'+' '+adgroup,\n",
        "        'Great Prices and Options',\n",
        "        'Browse Over 100,000 Cars. Book Your Free Test Drive',\n",
        "        page\n",
        "    ]\n",
        "    ads_list.append(row)"
      ],
      "execution_count": 14,
      "outputs": []
    },
    {
      "cell_type": "code",
      "metadata": {
        "id": "SnTtVEVeOWAg",
        "colab_type": "code",
        "colab": {}
      },
      "source": [
        "# Create a DataFrame from the ads_list\n",
        "ads=pd.DataFrame.from_records(ads_list)\n"
      ],
      "execution_count": 22,
      "outputs": []
    },
    {
      "cell_type": "code",
      "metadata": {
        "id": "Qr2_KfDGOwNT",
        "colab_type": "code",
        "colab": {
          "base_uri": "https://localhost:8080/",
          "height": 347
        },
        "outputId": "f7dabbc9-6dba-4e6c-94fe-2f38f6477025"
      },
      "source": [
        "#skip the first row of headers\n",
        "ads_fix = ads.rename(columns={0:\"Description\", 1: \"Campaign\",2: \"Ad Group\",3:\"Headline 1\",4:\"Headline 2\",5:\"Final Url\"})\n",
        "ads_final=ads_fix.loc[1:]\n",
        "\n",
        "ads_final=ads_fix.loc[1:]\n",
        "ads_final.head(10)"
      ],
      "execution_count": 27,
      "outputs": [
        {
          "output_type": "execute_result",
          "data": {
            "text/html": [
              "<div>\n",
              "<style scoped>\n",
              "    .dataframe tbody tr th:only-of-type {\n",
              "        vertical-align: middle;\n",
              "    }\n",
              "\n",
              "    .dataframe tbody tr th {\n",
              "        vertical-align: top;\n",
              "    }\n",
              "\n",
              "    .dataframe thead th {\n",
              "        text-align: right;\n",
              "    }\n",
              "</style>\n",
              "<table border=\"1\" class=\"dataframe\">\n",
              "  <thead>\n",
              "    <tr style=\"text-align: right;\">\n",
              "      <th></th>\n",
              "      <th>Description</th>\n",
              "      <th>Campaign</th>\n",
              "      <th>Ad Group</th>\n",
              "      <th>Headline 1</th>\n",
              "      <th>Headline 2</th>\n",
              "      <th>Final Url</th>\n",
              "    </tr>\n",
              "  </thead>\n",
              "  <tbody>\n",
              "    <tr>\n",
              "      <th>1</th>\n",
              "      <td>SEM Cars</td>\n",
              "      <td>toyota camry</td>\n",
              "      <td>toyota camry for Sale</td>\n",
              "      <td>Great Prices and Options</td>\n",
              "      <td>Browse Over 100,000 Cars. Book Your Free Test ...</td>\n",
              "      <td>http://example.com/?make=toyota&amp;model=camry</td>\n",
              "    </tr>\n",
              "    <tr>\n",
              "      <th>2</th>\n",
              "      <td>SEM Cars</td>\n",
              "      <td>toyota camry</td>\n",
              "      <td>Second Hand toyota camry</td>\n",
              "      <td>Great Prices and Options</td>\n",
              "      <td>Browse Over 100,000 Cars. Book Your Free Test ...</td>\n",
              "      <td>http://example.com/?make=toyota&amp;model=camry</td>\n",
              "    </tr>\n",
              "    <tr>\n",
              "      <th>3</th>\n",
              "      <td>SEM Cars</td>\n",
              "      <td>toyota corolla</td>\n",
              "      <td>toyota corolla for Sale</td>\n",
              "      <td>Great Prices and Options</td>\n",
              "      <td>Browse Over 100,000 Cars. Book Your Free Test ...</td>\n",
              "      <td>http://example.com/?make=toyota&amp;model=corolla</td>\n",
              "    </tr>\n",
              "    <tr>\n",
              "      <th>4</th>\n",
              "      <td>SEM Cars</td>\n",
              "      <td>toyota corolla</td>\n",
              "      <td>Second Hand toyota corolla</td>\n",
              "      <td>Great Prices and Options</td>\n",
              "      <td>Browse Over 100,000 Cars. Book Your Free Test ...</td>\n",
              "      <td>http://example.com/?make=toyota&amp;model=corolla</td>\n",
              "    </tr>\n",
              "    <tr>\n",
              "      <th>5</th>\n",
              "      <td>SEM Cars</td>\n",
              "      <td>toyota</td>\n",
              "      <td>toyota for Sale</td>\n",
              "      <td>Great Prices and Options</td>\n",
              "      <td>Browse Over 100,000 Cars. Book Your Free Test ...</td>\n",
              "      <td>http://example.com/?make=toyota&amp;model=</td>\n",
              "    </tr>\n",
              "    <tr>\n",
              "      <th>6</th>\n",
              "      <td>SEM Cars</td>\n",
              "      <td>toyota</td>\n",
              "      <td>Second Hand toyota</td>\n",
              "      <td>Great Prices and Options</td>\n",
              "      <td>Browse Over 100,000 Cars. Book Your Free Test ...</td>\n",
              "      <td>http://example.com/?make=toyota&amp;model=</td>\n",
              "    </tr>\n",
              "    <tr>\n",
              "      <th>7</th>\n",
              "      <td>SEM Cars</td>\n",
              "      <td>honda civic</td>\n",
              "      <td>honda civic for Sale</td>\n",
              "      <td>Great Prices and Options</td>\n",
              "      <td>Browse Over 100,000 Cars. Book Your Free Test ...</td>\n",
              "      <td>http://example.com/?make=honda&amp;model=civic</td>\n",
              "    </tr>\n",
              "    <tr>\n",
              "      <th>8</th>\n",
              "      <td>SEM Cars</td>\n",
              "      <td>honda civic</td>\n",
              "      <td>Second Hand honda civic</td>\n",
              "      <td>Great Prices and Options</td>\n",
              "      <td>Browse Over 100,000 Cars. Book Your Free Test ...</td>\n",
              "      <td>http://example.com/?make=honda&amp;model=civic</td>\n",
              "    </tr>\n",
              "    <tr>\n",
              "      <th>9</th>\n",
              "      <td>SEM Cars</td>\n",
              "      <td>honda</td>\n",
              "      <td>honda for Sale</td>\n",
              "      <td>Great Prices and Options</td>\n",
              "      <td>Browse Over 100,000 Cars. Book Your Free Test ...</td>\n",
              "      <td>http://example.com/?make=honda&amp;model=</td>\n",
              "    </tr>\n",
              "    <tr>\n",
              "      <th>10</th>\n",
              "      <td>SEM Cars</td>\n",
              "      <td>honda</td>\n",
              "      <td>Second Hand honda</td>\n",
              "      <td>Great Prices and Options</td>\n",
              "      <td>Browse Over 100,000 Cars. Book Your Free Test ...</td>\n",
              "      <td>http://example.com/?make=honda&amp;model=</td>\n",
              "    </tr>\n",
              "  </tbody>\n",
              "</table>\n",
              "</div>"
            ],
            "text/plain": [
              "   Description  ...                                      Final Url\n",
              "1     SEM Cars  ...    http://example.com/?make=toyota&model=camry\n",
              "2     SEM Cars  ...    http://example.com/?make=toyota&model=camry\n",
              "3     SEM Cars  ...  http://example.com/?make=toyota&model=corolla\n",
              "4     SEM Cars  ...  http://example.com/?make=toyota&model=corolla\n",
              "5     SEM Cars  ...         http://example.com/?make=toyota&model=\n",
              "6     SEM Cars  ...         http://example.com/?make=toyota&model=\n",
              "7     SEM Cars  ...     http://example.com/?make=honda&model=civic\n",
              "8     SEM Cars  ...     http://example.com/?make=honda&model=civic\n",
              "9     SEM Cars  ...          http://example.com/?make=honda&model=\n",
              "10    SEM Cars  ...          http://example.com/?make=honda&model=\n",
              "\n",
              "[10 rows x 6 columns]"
            ]
          },
          "metadata": {
            "tags": []
          },
          "execution_count": 27
        }
      ]
    },
    {
      "cell_type": "code",
      "metadata": {
        "id": "kjp3P5yyRYVs",
        "colab_type": "code",
        "colab": {}
      },
      "source": [
        "#To save the final Ads Campaign Dataframe to a CSV-Excel Sheet\n",
        "#ads_final.to_csv('campaign.csv',index=False)"
      ],
      "execution_count": null,
      "outputs": []
    }
  ]
}